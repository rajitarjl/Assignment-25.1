{
 "cells": [
  {
   "cell_type": "code",
   "execution_count": 1,
   "metadata": {},
   "outputs": [],
   "source": [
    "# Assignment 25.1 - Build the random forest model after normalizing the variable to house pricing from boston data set."
   ]
  },
  {
   "cell_type": "code",
   "execution_count": 2,
   "metadata": {},
   "outputs": [],
   "source": [
    "# Importing necessary libraries\n",
    "import numpy as np\n",
    "import pandas as pd\n",
    "import matplotlib.pyplot as plt\n",
    "import seaborn as sns\n",
    "from sklearn.model_selection import train_test_split\n",
    "from sklearn.model_selection import *\n",
    "from sklearn.preprocessing import StandardScaler\n",
    "from sklearn import datasets\n",
    "\n",
    "# Make matplotlib show our plots inline (nicely formatted in the notebook)\n",
    "%matplotlib inline"
   ]
  },
  {
   "cell_type": "code",
   "execution_count": 3,
   "metadata": {},
   "outputs": [],
   "source": [
    "# Load the Boston Housing dataset \n",
    "boston = datasets.load_boston()\n",
    "# Initialize the  features and target\n",
    "\n",
    "features = pd.DataFrame(boston.data, columns=boston.feature_names)\n",
    "targets = boston.target"
   ]
  },
  {
   "cell_type": "code",
   "execution_count": 4,
   "metadata": {},
   "outputs": [
    {
     "data": {
      "text/plain": [
       "(506, 13)"
      ]
     },
     "execution_count": 4,
     "metadata": {},
     "output_type": "execute_result"
    }
   ],
   "source": [
    "features.shape"
   ]
  },
  {
   "cell_type": "code",
   "execution_count": 5,
   "metadata": {},
   "outputs": [
    {
     "data": {
      "text/plain": [
       "(506,)"
      ]
     },
     "execution_count": 5,
     "metadata": {},
     "output_type": "execute_result"
    }
   ],
   "source": [
    "targets.shape"
   ]
  },
  {
   "cell_type": "code",
   "execution_count": 6,
   "metadata": {},
   "outputs": [
    {
     "data": {
      "text/html": [
       "<div>\n",
       "<style scoped>\n",
       "    .dataframe tbody tr th:only-of-type {\n",
       "        vertical-align: middle;\n",
       "    }\n",
       "\n",
       "    .dataframe tbody tr th {\n",
       "        vertical-align: top;\n",
       "    }\n",
       "\n",
       "    .dataframe thead th {\n",
       "        text-align: right;\n",
       "    }\n",
       "</style>\n",
       "<table border=\"1\" class=\"dataframe\">\n",
       "  <thead>\n",
       "    <tr style=\"text-align: right;\">\n",
       "      <th></th>\n",
       "      <th>CRIM</th>\n",
       "      <th>ZN</th>\n",
       "      <th>INDUS</th>\n",
       "      <th>CHAS</th>\n",
       "      <th>NOX</th>\n",
       "      <th>RM</th>\n",
       "      <th>AGE</th>\n",
       "      <th>DIS</th>\n",
       "      <th>RAD</th>\n",
       "      <th>TAX</th>\n",
       "      <th>PTRATIO</th>\n",
       "      <th>B</th>\n",
       "      <th>LSTAT</th>\n",
       "    </tr>\n",
       "  </thead>\n",
       "  <tbody>\n",
       "    <tr>\n",
       "      <th>0</th>\n",
       "      <td>0.00632</td>\n",
       "      <td>18.0</td>\n",
       "      <td>2.31</td>\n",
       "      <td>0.0</td>\n",
       "      <td>0.538</td>\n",
       "      <td>6.575</td>\n",
       "      <td>65.2</td>\n",
       "      <td>4.0900</td>\n",
       "      <td>1.0</td>\n",
       "      <td>296.0</td>\n",
       "      <td>15.3</td>\n",
       "      <td>396.90</td>\n",
       "      <td>4.98</td>\n",
       "    </tr>\n",
       "    <tr>\n",
       "      <th>1</th>\n",
       "      <td>0.02731</td>\n",
       "      <td>0.0</td>\n",
       "      <td>7.07</td>\n",
       "      <td>0.0</td>\n",
       "      <td>0.469</td>\n",
       "      <td>6.421</td>\n",
       "      <td>78.9</td>\n",
       "      <td>4.9671</td>\n",
       "      <td>2.0</td>\n",
       "      <td>242.0</td>\n",
       "      <td>17.8</td>\n",
       "      <td>396.90</td>\n",
       "      <td>9.14</td>\n",
       "    </tr>\n",
       "    <tr>\n",
       "      <th>2</th>\n",
       "      <td>0.02729</td>\n",
       "      <td>0.0</td>\n",
       "      <td>7.07</td>\n",
       "      <td>0.0</td>\n",
       "      <td>0.469</td>\n",
       "      <td>7.185</td>\n",
       "      <td>61.1</td>\n",
       "      <td>4.9671</td>\n",
       "      <td>2.0</td>\n",
       "      <td>242.0</td>\n",
       "      <td>17.8</td>\n",
       "      <td>392.83</td>\n",
       "      <td>4.03</td>\n",
       "    </tr>\n",
       "    <tr>\n",
       "      <th>3</th>\n",
       "      <td>0.03237</td>\n",
       "      <td>0.0</td>\n",
       "      <td>2.18</td>\n",
       "      <td>0.0</td>\n",
       "      <td>0.458</td>\n",
       "      <td>6.998</td>\n",
       "      <td>45.8</td>\n",
       "      <td>6.0622</td>\n",
       "      <td>3.0</td>\n",
       "      <td>222.0</td>\n",
       "      <td>18.7</td>\n",
       "      <td>394.63</td>\n",
       "      <td>2.94</td>\n",
       "    </tr>\n",
       "    <tr>\n",
       "      <th>4</th>\n",
       "      <td>0.06905</td>\n",
       "      <td>0.0</td>\n",
       "      <td>2.18</td>\n",
       "      <td>0.0</td>\n",
       "      <td>0.458</td>\n",
       "      <td>7.147</td>\n",
       "      <td>54.2</td>\n",
       "      <td>6.0622</td>\n",
       "      <td>3.0</td>\n",
       "      <td>222.0</td>\n",
       "      <td>18.7</td>\n",
       "      <td>396.90</td>\n",
       "      <td>5.33</td>\n",
       "    </tr>\n",
       "  </tbody>\n",
       "</table>\n",
       "</div>"
      ],
      "text/plain": [
       "      CRIM    ZN  INDUS  CHAS    NOX     RM   AGE     DIS  RAD    TAX  \\\n",
       "0  0.00632  18.0   2.31   0.0  0.538  6.575  65.2  4.0900  1.0  296.0   \n",
       "1  0.02731   0.0   7.07   0.0  0.469  6.421  78.9  4.9671  2.0  242.0   \n",
       "2  0.02729   0.0   7.07   0.0  0.469  7.185  61.1  4.9671  2.0  242.0   \n",
       "3  0.03237   0.0   2.18   0.0  0.458  6.998  45.8  6.0622  3.0  222.0   \n",
       "4  0.06905   0.0   2.18   0.0  0.458  7.147  54.2  6.0622  3.0  222.0   \n",
       "\n",
       "   PTRATIO       B  LSTAT  \n",
       "0     15.3  396.90   4.98  \n",
       "1     17.8  396.90   9.14  \n",
       "2     17.8  392.83   4.03  \n",
       "3     18.7  394.63   2.94  \n",
       "4     18.7  396.90   5.33  "
      ]
     },
     "execution_count": 6,
     "metadata": {},
     "output_type": "execute_result"
    }
   ],
   "source": [
    "features.head()"
   ]
  },
  {
   "cell_type": "code",
   "execution_count": 7,
   "metadata": {},
   "outputs": [
    {
     "data": {
      "text/plain": [
       "CRIM       False\n",
       "ZN         False\n",
       "INDUS      False\n",
       "CHAS       False\n",
       "NOX        False\n",
       "RM         False\n",
       "AGE        False\n",
       "DIS        False\n",
       "RAD        False\n",
       "TAX        False\n",
       "PTRATIO    False\n",
       "B          False\n",
       "LSTAT      False\n",
       "dtype: bool"
      ]
     },
     "execution_count": 7,
     "metadata": {},
     "output_type": "execute_result"
    }
   ],
   "source": [
    "features.isnull().any()"
   ]
  },
  {
   "cell_type": "code",
   "execution_count": 8,
   "metadata": {},
   "outputs": [
    {
     "data": {
      "text/plain": [
       "dict_keys(['data', 'target', 'feature_names', 'DESCR', 'filename'])"
      ]
     },
     "execution_count": 8,
     "metadata": {},
     "output_type": "execute_result"
    }
   ],
   "source": [
    "boston.keys()"
   ]
  },
  {
   "cell_type": "code",
   "execution_count": 9,
   "metadata": {},
   "outputs": [
    {
     "name": "stdout",
     "output_type": "stream",
     "text": [
      ".. _boston_dataset:\n",
      "\n",
      "Boston house prices dataset\n",
      "---------------------------\n",
      "\n",
      "**Data Set Characteristics:**  \n",
      "\n",
      "    :Number of Instances: 506 \n",
      "\n",
      "    :Number of Attributes: 13 numeric/categorical predictive. Median Value (attribute 14) is usually the target.\n",
      "\n",
      "    :Attribute Information (in order):\n",
      "        - CRIM     per capita crime rate by town\n",
      "        - ZN       proportion of residential land zoned for lots over 25,000 sq.ft.\n",
      "        - INDUS    proportion of non-retail business acres per town\n",
      "        - CHAS     Charles River dummy variable (= 1 if tract bounds river; 0 otherwise)\n",
      "        - NOX      nitric oxides concentration (parts per 10 million)\n",
      "        - RM       average number of rooms per dwelling\n",
      "        - AGE      proportion of owner-occupied units built prior to 1940\n",
      "        - DIS      weighted distances to five Boston employment centres\n",
      "        - RAD      index of accessibility to radial highways\n",
      "        - TAX      full-value property-tax rate per $10,000\n",
      "        - PTRATIO  pupil-teacher ratio by town\n",
      "        - B        1000(Bk - 0.63)^2 where Bk is the proportion of blacks by town\n",
      "        - LSTAT    % lower status of the population\n",
      "        - MEDV     Median value of owner-occupied homes in $1000's\n",
      "\n",
      "    :Missing Attribute Values: None\n",
      "\n",
      "    :Creator: Harrison, D. and Rubinfeld, D.L.\n",
      "\n",
      "This is a copy of UCI ML housing dataset.\n",
      "https://archive.ics.uci.edu/ml/machine-learning-databases/housing/\n",
      "\n",
      "\n",
      "This dataset was taken from the StatLib library which is maintained at Carnegie Mellon University.\n",
      "\n",
      "The Boston house-price data of Harrison, D. and Rubinfeld, D.L. 'Hedonic\n",
      "prices and the demand for clean air', J. Environ. Economics & Management,\n",
      "vol.5, 81-102, 1978.   Used in Belsley, Kuh & Welsch, 'Regression diagnostics\n",
      "...', Wiley, 1980.   N.B. Various transformations are used in the table on\n",
      "pages 244-261 of the latter.\n",
      "\n",
      "The Boston house-price data has been used in many machine learning papers that address regression\n",
      "problems.   \n",
      "     \n",
      ".. topic:: References\n",
      "\n",
      "   - Belsley, Kuh & Welsch, 'Regression diagnostics: Identifying Influential Data and Sources of Collinearity', Wiley, 1980. 244-261.\n",
      "   - Quinlan,R. (1993). Combining Instance-Based and Model-Based Learning. In Proceedings on the Tenth International Conference of Machine Learning, 236-243, University of Massachusetts, Amherst. Morgan Kaufmann.\n",
      "\n"
     ]
    }
   ],
   "source": [
    "print(boston.DESCR)"
   ]
  },
  {
   "cell_type": "code",
   "execution_count": 10,
   "metadata": {},
   "outputs": [],
   "source": [
    "feature_names = boston.feature_names"
   ]
  },
  {
   "cell_type": "code",
   "execution_count": 11,
   "metadata": {},
   "outputs": [
    {
     "name": "stdout",
     "output_type": "stream",
     "text": [
      "Table 1: Feature Reference Table\n"
     ]
    },
    {
     "data": {
      "text/html": [
       "<div>\n",
       "<style scoped>\n",
       "    .dataframe tbody tr th:only-of-type {\n",
       "        vertical-align: middle;\n",
       "    }\n",
       "\n",
       "    .dataframe tbody tr th {\n",
       "        vertical-align: top;\n",
       "    }\n",
       "\n",
       "    .dataframe thead th {\n",
       "        text-align: right;\n",
       "    }\n",
       "</style>\n",
       "<table border=\"1\" class=\"dataframe\">\n",
       "  <thead>\n",
       "    <tr style=\"text-align: right;\">\n",
       "      <th></th>\n",
       "      <th>Feature</th>\n",
       "      <th>Description</th>\n",
       "    </tr>\n",
       "  </thead>\n",
       "  <tbody>\n",
       "    <tr>\n",
       "      <th>0</th>\n",
       "      <td>CRIM</td>\n",
       "      <td>Per Capita Crime Rate by Town</td>\n",
       "    </tr>\n",
       "    <tr>\n",
       "      <th>1</th>\n",
       "      <td>ZN</td>\n",
       "      <td>Proportion of Residential Land Zoned for Lots ...</td>\n",
       "    </tr>\n",
       "    <tr>\n",
       "      <th>2</th>\n",
       "      <td>INDUS</td>\n",
       "      <td>Proportion of Non-retail Business Acres per Town</td>\n",
       "    </tr>\n",
       "    <tr>\n",
       "      <th>3</th>\n",
       "      <td>CHAS</td>\n",
       "      <td>Charles River Dummy Variable (= 1 if Tract Bou...</td>\n",
       "    </tr>\n",
       "    <tr>\n",
       "      <th>4</th>\n",
       "      <td>NOX</td>\n",
       "      <td>Nitric Oxides Concentration (Parts per 10 Mill...</td>\n",
       "    </tr>\n",
       "    <tr>\n",
       "      <th>5</th>\n",
       "      <td>RM</td>\n",
       "      <td>Average Number of Rooms per Dwelling</td>\n",
       "    </tr>\n",
       "    <tr>\n",
       "      <th>6</th>\n",
       "      <td>AGE</td>\n",
       "      <td>Proportion of Owner-occupied Units Built Prior...</td>\n",
       "    </tr>\n",
       "    <tr>\n",
       "      <th>7</th>\n",
       "      <td>DIS</td>\n",
       "      <td>Weighted Distances to Five Boston Employment C...</td>\n",
       "    </tr>\n",
       "    <tr>\n",
       "      <th>8</th>\n",
       "      <td>RAD</td>\n",
       "      <td>Index of Accessibility to Radial Highways</td>\n",
       "    </tr>\n",
       "    <tr>\n",
       "      <th>9</th>\n",
       "      <td>TAX</td>\n",
       "      <td>Full-value Property-tax Rate per $10,000</td>\n",
       "    </tr>\n",
       "    <tr>\n",
       "      <th>10</th>\n",
       "      <td>PTRATIO</td>\n",
       "      <td>Pupil-teacher Ratio by Town</td>\n",
       "    </tr>\n",
       "    <tr>\n",
       "      <th>11</th>\n",
       "      <td>B</td>\n",
       "      <td>1000(Bk - 0.63)^2 where Bk is the Proportion o...</td>\n",
       "    </tr>\n",
       "    <tr>\n",
       "      <th>12</th>\n",
       "      <td>LSTAT</td>\n",
       "      <td>% Lower Status of the Population</td>\n",
       "    </tr>\n",
       "  </tbody>\n",
       "</table>\n",
       "</div>"
      ],
      "text/plain": [
       "    Feature                                        Description\n",
       "0      CRIM                      Per Capita Crime Rate by Town\n",
       "1        ZN  Proportion of Residential Land Zoned for Lots ...\n",
       "2     INDUS   Proportion of Non-retail Business Acres per Town\n",
       "3      CHAS  Charles River Dummy Variable (= 1 if Tract Bou...\n",
       "4       NOX  Nitric Oxides Concentration (Parts per 10 Mill...\n",
       "5        RM               Average Number of Rooms per Dwelling\n",
       "6       AGE  Proportion of Owner-occupied Units Built Prior...\n",
       "7       DIS  Weighted Distances to Five Boston Employment C...\n",
       "8       RAD          Index of Accessibility to Radial Highways\n",
       "9       TAX           Full-value Property-tax Rate per $10,000\n",
       "10  PTRATIO                        Pupil-teacher Ratio by Town\n",
       "11        B  1000(Bk - 0.63)^2 where Bk is the Proportion o...\n",
       "12    LSTAT                   % Lower Status of the Population"
      ]
     },
     "execution_count": 11,
     "metadata": {},
     "output_type": "execute_result"
    }
   ],
   "source": [
    "feature_desc = [\"Per Capita Crime Rate by Town\",\n",
    "                \"Proportion of Residential Land Zoned for Lots over 25,000 sq.ft.\",\n",
    "                \"Proportion of Non-retail Business Acres per Town\",\n",
    "                \"Charles River Dummy Variable (= 1 if Tract Bounds River; 0 Otherwise)\",\n",
    "                \"Nitric Oxides Concentration (Parts per 10 Million)\",\n",
    "                \"Average Number of Rooms per Dwelling\",\n",
    "                \"Proportion of Owner-occupied Units Built Prior to 1940\",\n",
    "                \"Weighted Distances to Five Boston Employment Centres\",\n",
    "                \"Index of Accessibility to Radial Highways\",\n",
    "                \"Full-value Property-tax Rate per $10,000\",\n",
    "                \"Pupil-teacher Ratio by Town\",\n",
    "                \"1000(Bk - 0.63)^2 where Bk is the Proportion of Blacks by Town\",\n",
    "                \"% Lower Status of the Population\"]\n",
    "\n",
    "resultcols = [\"Feature\",\n",
    "              \"Description\"]\n",
    "\n",
    "results_df = pd.DataFrame([])\n",
    "\n",
    "for f in enumerate(feature_names):\n",
    "    feat_desc = feature_desc[f[0]]\n",
    "    temp_df = pd.DataFrame([[f[1],\n",
    "                             feat_desc]],\n",
    "                             index = [f[0]], columns = resultcols)\n",
    "\n",
    "    results_df = results_df.append(temp_df)\n",
    "\n",
    "print(\"Table 1: Feature Reference Table\")\n",
    "results_df"
   ]
  },
  {
   "cell_type": "markdown",
   "metadata": {},
   "source": [
    "Statistical Analysis and Data Exploration\n",
    "\n",
    "In this first section of the project, we will  investigate a few basic statistics about the dataset working with. \n",
    "In addition, we will look at the client's feature set in CLIENT_FEATURES and see how this particular sample \n",
    "relates to the features of the dataset. Familiarizing  with the data through an explorative process is a fundamental \n",
    "practice to help  understand the results better.\n",
    "\n",
    "In the code block below, the imported numpy library is used to calculate the requested statistics. \n",
    "\n",
    "The print statements will show the statistics you calculate!"
   ]
  },
  {
   "cell_type": "code",
   "execution_count": 12,
   "metadata": {},
   "outputs": [
    {
     "name": "stdout",
     "output_type": "stream",
     "text": [
      "Boston Housing dataset statistics (Price in $1000's) \n",
      "\n",
      "Total number of houses: 506\n",
      "Total number of features: 13\n",
      "Minimum price: $5.00\n",
      "Maximum price: $50.00\n",
      "Mean price: $22.53\n",
      "Median price $21.20\n",
      "Standard deviation of prices: $9.19\n",
      "First quartile of prices: $17.02\n",
      "Second quartile of prices: $25.00\n",
      "Interquartile (IQR) of prices: $7.98\n",
      "Standard deviation of house price: 9.188\n"
     ]
    }
   ],
   "source": [
    "# Number of houses in the dataset\n",
    "total_houses = len(features)\n",
    "\n",
    "# Number of features in the dataset\n",
    "features_shape = np.shape(features)\n",
    "total_features = features_shape[1]\n",
    "\n",
    "#  Minimum price of the data\n",
    "minimum_price = np.min(targets)\n",
    "# Alternative using pandas\n",
    "# minimum_price = targets.min()\n",
    "\n",
    "#  Maximum price of the data\n",
    "maximum_price = np.max(targets)\n",
    "# Alternative using pandas\n",
    "# maximum_price = targets.max()\n",
    "\n",
    "#  Mean price of the data\n",
    "mean_price = np.mean(targets)\n",
    "# Alternative using pandas\n",
    "# mean_price = targets.mean()\n",
    "\n",
    "#  Median price of the data\n",
    "median_price = np.median(targets)\n",
    "# Alternative using pandas\n",
    "# median_price = targets.median()\n",
    "\n",
    "#  Standard deviation of prices of the data\n",
    "std_price = np.std(targets)\n",
    "# Alternative using pandas \n",
    "# std_price = prices.std(ddof=0)\n",
    "\n",
    "# There are other statistics you can calculate too like quartiles\n",
    "first_quartile = np.percentile(targets, 25)\n",
    "third_quartile = np.percentile(targets, 75)\n",
    "inter_quartile = third_quartile - first_quartile\n",
    "\n",
    "# Show the calculated statistics\n",
    "\n",
    "print(\"Boston Housing dataset statistics (Price in $1000's) \\n\")\n",
    "print(\"Total number of houses:\", total_houses)\n",
    "print(\"Total number of features:\", total_features)\n",
    "\n",
    "print (\"Minimum price: ${:,.2f}\".format(minimum_price))\n",
    "print (\"Maximum price: ${:,.2f}\".format(maximum_price))\n",
    "print (\"Mean price: ${:,.2f}\".format(mean_price))\n",
    "print (\"Median price ${:,.2f}\".format(median_price))\n",
    "print (\"Standard deviation of prices: ${:,.2f}\".format(std_price))\n",
    "print (\"First quartile of prices: ${:,.2f}\".format(first_quartile))\n",
    "print (\"Second quartile of prices: ${:,.2f}\".format(third_quartile))\n",
    "print (\"Interquartile (IQR) of prices: ${:,.2f}\".format(inter_quartile))\n",
    "print(\"Standard deviation of house price: {0:.3f}\".format(std_price))"
   ]
  },
  {
   "cell_type": "code",
   "execution_count": 13,
   "metadata": {},
   "outputs": [],
   "source": [
    "# Normalize data\n",
    "\n",
    "from sklearn.model_selection import train_test_split\n",
    "X_train,X_test,y_train,y_test=train_test_split(features,targets,test_size=0.25,random_state=33)\n",
    "\n",
    "#Feature Scaling\n",
    "from sklearn.preprocessing import StandardScaler\n",
    "\n",
    "scalerX = StandardScaler().fit(X_train)\n",
    "scalery = StandardScaler().fit(np.reshape(y_train,(-1,1)))"
   ]
  },
  {
   "cell_type": "code",
   "execution_count": 14,
   "metadata": {},
   "outputs": [
    {
     "name": "stdout",
     "output_type": "stream",
     "text": [
      "10.190454845432923 -4.6670204084548 2.4732713452985016e-15 2.9177492036731256 -1.931470986413033 3.5855223803197665e-16\n"
     ]
    }
   ],
   "source": [
    "X_train = scalerX.transform(X_train)\n",
    "y_train = scalery.transform(np.reshape(y_train,(-1,1)))\n",
    "\n",
    "X_test = scalerX.transform(X_test)\n",
    "y_test = scalery.transform(np.reshape(y_test,(-1,1)))\n",
    "\n",
    "print (np.max(X_train), np.min(X_train), np.mean(X_train), np.max(y_train), np.min(y_train), np.mean(y_train))\n",
    "# converting reshaped Y vector into array again\n",
    "y_train=y_train.flatten(order='C')\n",
    "y_test=y_test.flatten(order='C')"
   ]
  },
  {
   "cell_type": "code",
   "execution_count": 15,
   "metadata": {},
   "outputs": [
    {
     "name": "stdout",
     "output_type": "stream",
     "text": [
      "Coefficient of determination on training set: 0.9704633064732715\n"
     ]
    }
   ],
   "source": [
    "# Fitting Regression to the Training set\n",
    "from sklearn import ensemble\n",
    "regressor=ensemble.RandomForestRegressor(n_estimators=10,random_state=42)\n",
    "regressor.fit(X_train, y_train)\n",
    "\n",
    "print (\"Coefficient of determination on training set:\",regressor.score(X_train, y_train))"
   ]
  },
  {
   "cell_type": "code",
   "execution_count": 16,
   "metadata": {},
   "outputs": [
    {
     "data": {
      "text/plain": [
       "0.812229915489501"
      ]
     },
     "execution_count": 16,
     "metadata": {},
     "output_type": "execute_result"
    }
   ],
   "source": [
    "regressor.score(X_test, y_test)"
   ]
  },
  {
   "cell_type": "code",
   "execution_count": 17,
   "metadata": {},
   "outputs": [
    {
     "name": "stdout",
     "output_type": "stream",
     "text": [
      "Coefficient of determination using 5-fold crossvalidation: 0.8228281056380199\n"
     ]
    }
   ],
   "source": [
    "cv = KFold(n_splits=5, shuffle=True, random_state=33)\n",
    "scores = cross_val_score(regressor, X_train, y_train, cv=cv)\n",
    "print (\"Coefficient of determination using 5-fold crossvalidation:\",np.mean(scores))"
   ]
  },
  {
   "cell_type": "code",
   "execution_count": 18,
   "metadata": {},
   "outputs": [],
   "source": [
    "# Predicting the Test set results\n",
    "y_pred = regressor.predict(X_test)"
   ]
  },
  {
   "cell_type": "code",
   "execution_count": 19,
   "metadata": {},
   "outputs": [
    {
     "name": "stdout",
     "output_type": "stream",
     "text": [
      "Mean Absolute Error: 0.257\n"
     ]
    }
   ],
   "source": [
    "# CHECK Calculate the absolute errors # Method - 1\n",
    "\n",
    "errors = abs(y_pred - y_test)\n",
    "# Print out the mean absolute error\n",
    "print('Mean Absolute Error:', round(np.mean(errors),3))"
   ]
  },
  {
   "cell_type": "code",
   "execution_count": 20,
   "metadata": {},
   "outputs": [
    {
     "data": {
      "text/plain": [
       "0.257"
      ]
     },
     "execution_count": 20,
     "metadata": {},
     "output_type": "execute_result"
    }
   ],
   "source": [
    "# CHECK Calculate the absolute errors # Method - 2\n",
    "\n",
    "from sklearn.metrics import mean_absolute_error\n",
    "round(mean_absolute_error(y_test, y_pred),3)"
   ]
  },
  {
   "cell_type": "code",
   "execution_count": 21,
   "metadata": {},
   "outputs": [
    {
     "name": "stdout",
     "output_type": "stream",
     "text": [
      "Mean Square Error : 0.169\n"
     ]
    }
   ],
   "source": [
    "# Calculate the Mean Square Error  # Method - 1\n",
    "\n",
    "errorssquare = errors * errors\n",
    "# Print out the mean absolute error\n",
    "print('Mean Square Error :', round(np.mean(errorssquare),3))"
   ]
  },
  {
   "cell_type": "code",
   "execution_count": 22,
   "metadata": {},
   "outputs": [
    {
     "name": "stdout",
     "output_type": "stream",
     "text": [
      "Mean Square Error : 0.169\n"
     ]
    }
   ],
   "source": [
    "# Calculate the Mean Square Error  # Method - 2\n",
    "\n",
    "from sklearn.metrics import mean_squared_error\n",
    "\n",
    "print('Mean Square Error :', round(mean_squared_error(y_test, y_pred),3))"
   ]
  },
  {
   "cell_type": "code",
   "execution_count": 23,
   "metadata": {},
   "outputs": [
    {
     "name": "stdout",
     "output_type": "stream",
     "text": [
      "[(0.0009808199743778538, 'CHAS'), (0.001227439001115376, 'ZN'), (0.0031651367705717733, 'RAD'), (0.010746974375737748, 'INDUS'), (0.011596711622899013, 'NOX'), (0.01230925873213042, 'B'), (0.01696681204273749, 'AGE'), (0.017268886437155507, 'PTRATIO'), (0.0211809756835178, 'TAX'), (0.03725972308802442, 'CRIM'), (0.05467084205423646, 'DIS'), (0.3630390390388699, 'LSTAT'), (0.4495873811786262, 'RM')]\n"
     ]
    }
   ],
   "source": [
    "important=zip(regressor.feature_importances_,boston.feature_names)\n",
    "print (sorted(important))"
   ]
  },
  {
   "cell_type": "code",
   "execution_count": 24,
   "metadata": {},
   "outputs": [],
   "source": [
    "importances = regressor.feature_importances_\n",
    "std = np.std([tree.feature_importances_ for tree in regressor.estimators_],axis=0)\n",
    "indices = np.argsort(importances)[::-1]"
   ]
  },
  {
   "cell_type": "code",
   "execution_count": 25,
   "metadata": {},
   "outputs": [
    {
     "data": {
      "text/plain": [
       "array([ 5, 12,  7,  0,  9, 10,  6, 11,  4,  2,  8,  1,  3], dtype=int64)"
      ]
     },
     "execution_count": 25,
     "metadata": {},
     "output_type": "execute_result"
    }
   ],
   "source": [
    "indices"
   ]
  },
  {
   "cell_type": "code",
   "execution_count": 26,
   "metadata": {},
   "outputs": [],
   "source": [
    "#for tree in regressor.estimators_ :\n",
    "    #print(tree.feature_importances_ )\n",
    "    #print(np.std(tree.feature_importances_ ,axis=0))"
   ]
  },
  {
   "cell_type": "code",
   "execution_count": 27,
   "metadata": {},
   "outputs": [
    {
     "data": {
      "text/plain": [
       "array([0.03725972, 0.00122744, 0.01074697, 0.00098082, 0.01159671,\n",
       "       0.44958738, 0.01696681, 0.05467084, 0.00316514, 0.02118098,\n",
       "       0.01726889, 0.01230926, 0.36303904])"
      ]
     },
     "execution_count": 27,
     "metadata": {},
     "output_type": "execute_result"
    }
   ],
   "source": [
    "importances"
   ]
  },
  {
   "cell_type": "code",
   "execution_count": 28,
   "metadata": {},
   "outputs": [
    {
     "name": "stdout",
     "output_type": "stream",
     "text": [
      "Feature ranking:\n",
      "1. feature 5 (0.449587)  -  RM\n",
      "2. feature 12 (0.363039)  -  LSTAT\n",
      "3. feature 7 (0.054671)  -  DIS\n",
      "4. feature 0 (0.037260)  -  CRIM\n",
      "5. feature 9 (0.021181)  -  TAX\n",
      "6. feature 10 (0.017269)  -  PTRATIO\n",
      "7. feature 6 (0.016967)  -  AGE\n",
      "8. feature 11 (0.012309)  -  B\n",
      "9. feature 4 (0.011597)  -  NOX\n",
      "10. feature 2 (0.010747)  -  INDUS\n",
      "11. feature 8 (0.003165)  -  RAD\n",
      "12. feature 1 (0.001227)  -  ZN\n",
      "13. feature 3 (0.000981)  -  CHAS\n"
     ]
    },
    {
     "data": {
      "image/png": "[encoded data removed]",
      "text/plain": [
       "<Figure size 432x288 with 1 Axes>"
      ]
     },
     "metadata": {
      "needs_background": "light"
     },
     "output_type": "display_data"
    }
   ],
   "source": [
    "# Print the feature ranking\n",
    "cc=list(zip(regressor.feature_importances_,boston.feature_names))\n",
    "\n",
    "print(\"Feature ranking:\")\n",
    "\n",
    "for f in range(X_train.shape[1]):\n",
    "    print(\"%d. feature %d (%f)\" % (f + 1, indices[f], importances[indices[f]]),\" - \",cc[indices[f]][1])\n",
    "    \n",
    "    \n",
    "# Plot the feature importances of the forest\n",
    "plt.figure()\n",
    "plt.title(\"Feature importances\")\n",
    "plt.bar(range(X_train.shape[1]), importances[indices],\n",
    "       color=\"r\", yerr=std[indices], align=\"center\")\n",
    "plt.xticks(range(X_train.shape[1]), indices)\n",
    "\n",
    "#plt.xticks(range(X_train.shape[1]), cc[indices[f]][1])\n",
    "\n",
    "\n",
    "plt.xlim([-1, X_train.shape[1]])\n",
    "plt.show()"
   ]
  },
  {
   "cell_type": "code",
   "execution_count": 29,
   "metadata": {},
   "outputs": [
    {
     "name": "stdout",
     "output_type": "stream",
     "text": [
      "R Square Error / Coefficient of determination:  81.223\n"
     ]
    }
   ],
   "source": [
    "#Calculating R Square / Cooeficient of Determination\n",
    "\n",
    "from sklearn.metrics import r2_score\n",
    "print('R Square Error / Coefficient of determination: ', round(r2_score(y_test, y_pred)*100,3))"
   ]
  },
  {
   "cell_type": "markdown",
   "metadata": {},
   "source": [
    "R-squared is always between 0 and 100%:\n",
    "\n",
    "0% indicates that the model explains none of the variability of the response data around its mean.\n",
    "100% indicates that the model explains all the variability of the response data around its mean\n",
    "\n",
    "In general, the higher the R-squared, the better the model fits your data, with 81.223 % Model is good"
   ]
  },
  {
   "cell_type": "code",
   "execution_count": null,
   "metadata": {},
   "outputs": [],
   "source": []
  }
 ],
 "metadata": {
  "kernelspec": {
   "display_name": "Python 3",
   "language": "python",
   "name": "python3"
  },
  "language_info": {
   "codemirror_mode": {
    "name": "ipython",
    "version": 3
   },
   "file_extension": ".py",
   "mimetype": "text/x-python",
   "name": "python",
   "nbconvert_exporter": "python",
   "pygments_lexer": "ipython3",
   "version": "3.7.0"
  }
 },
 "nbformat": 4,
 "nbformat_minor": 2
}
